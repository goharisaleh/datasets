{
  "nbformat": 4,
  "nbformat_minor": 0,
  "metadata": {
    "colab": {
      "name": "Untitled2.ipynb",
      "provenance": [],
      "authorship_tag": "ABX9TyP0tCJlOoynLQfTz6An6WDs",
      "include_colab_link": true
    },
    "kernelspec": {
      "name": "python3",
      "display_name": "Python 3"
    },
    "language_info": {
      "name": "python"
    }
  },
  "cells": [
    {
      "cell_type": "markdown",
      "metadata": {
        "id": "view-in-github",
        "colab_type": "text"
      },
      "source": [
        "<a href=\"https://colab.research.google.com/github/goharisaleh/datasets/blob/master/Untitled2.ipynb\" target=\"_parent\"><img src=\"https://colab.research.google.com/assets/colab-badge.svg\" alt=\"Open In Colab\"/></a>"
      ]
    },
    {
      "cell_type": "code",
      "execution_count": null,
      "metadata": {
        "colab": {
          "base_uri": "https://localhost:8080/"
        },
        "id": "wvXhMc-Ic2zb",
        "outputId": "5c0edb04-f277-4d19-b240-62afad35be74"
      },
      "outputs": [
        {
          "output_type": "stream",
          "name": "stdout",
          "text": [
            "0.0\n"
          ]
        }
      ],
      "source": [
        "a = 5/5.5\n",
        "b = 5*5.5\n",
        "print(a//b)"
      ]
    },
    {
      "cell_type": "code",
      "source": [
        "class student:\n",
        "  def __init__(self,name,age,position):\n",
        "    self.name = name\n",
        "    self.age = age\n",
        "    self.position = position\n",
        "p = student('jadi',38,'hr')\n",
        "print(p.name, p.age, p.position)"
      ],
      "metadata": {
        "colab": {
          "base_uri": "https://localhost:8080/"
        },
        "id": "c_Nh_gNsonu-",
        "outputId": "93174048-7cd0-4294-f328-2283b77fc003"
      },
      "execution_count": null,
      "outputs": [
        {
          "output_type": "stream",
          "name": "stdout",
          "text": [
            "jadi 38 hr\n"
          ]
        }
      ]
    },
    {
      "cell_type": "code",
      "source": [
        "n = int(input('n:'))\n",
        "for i in range(n):\n",
        "  print('*'*i)\n",
        "for j in range(n,0,-1):\n",
        "  print('*'*j)"
      ],
      "metadata": {
        "colab": {
          "base_uri": "https://localhost:8080/"
        },
        "id": "M8eo3It8Er26",
        "outputId": "86caca88-f080-46dc-bbde-8181c281756c"
      },
      "execution_count": null,
      "outputs": [
        {
          "output_type": "stream",
          "name": "stdout",
          "text": [
            "n:5\n",
            "\n",
            "*\n",
            "**\n",
            "***\n",
            "****\n",
            "*****\n",
            "****\n",
            "***\n",
            "**\n",
            "*\n"
          ]
        }
      ]
    },
    {
      "cell_type": "code",
      "source": [
        ""
      ],
      "metadata": {
        "id": "PABWd8JgJWdr"
      },
      "execution_count": null,
      "outputs": []
    },
    {
      "cell_type": "code",
      "source": [
        "class Hanoi:\n",
        "  def __init__(self,n):\n",
        "    self.disks_no = n\n",
        "    self.towers = (\n",
        "        list(range(2*n,1,-2)),\n",
        "        [],\n",
        "        []\n",
        "    )\n",
        "  \n",
        "  def move(self, source, destination):\n",
        "    disk = self.towers[sourse].pop()\n",
        "    self.towers[destination].append(disk)\n",
        "\n",
        "  def print_tower_row(self, tower, index):\n",
        "    try:\n",
        "      return (\"=\" * tower[index]).center(20)\n",
        "    except:\n",
        "      return (\"||\".center(20))\n",
        "\n",
        "  def print_hanoi(self):\n",
        "    tower_empty = 2\n",
        "    tower_width = 20\n",
        "    for i in range(tower_empty):\n",
        "      print(\"||\".center(tower_width),\n",
        "            \"||\".center(tower_width),\n",
        "            \"||\".center(tower_width))\n",
        "    for i in range(self.disks_no,0,-1):\n",
        "      print(\n",
        "          self.print_tower_row(self.towers[0],i-1),\n",
        "          self.print_tower_row(self.towers[1],i-1),\n",
        "          self.print_tower_row(self.towers[2],i-1)\n",
        "      )\n",
        "\n",
        "    print(\n",
        "        '-' * tower_width,\n",
        "        '-' * tower_width,\n",
        "        '-' * tower_width\n",
        "    )\n",
        "    print(\n",
        "        \"Tower #0\".center(tower_width),\n",
        "        \"Tower #1\".center(tower_width),\n",
        "        \"Tower #2\".center(tower_width)\n",
        "    )"
      ],
      "metadata": {
        "id": "KdCiF_CIWYeb"
      },
      "execution_count": 24,
      "outputs": []
    },
    {
      "cell_type": "code",
      "source": [
        "hanoi = Hanoi(6)\n",
        "hanoi.print_hanoi()\n",
        "\n",
        "#hanoi.move(0, 2)\n",
        "#hanoi.print_hanoi()"
      ],
      "metadata": {
        "colab": {
          "base_uri": "https://localhost:8080/"
        },
        "id": "IDQPrEMy_5DW",
        "outputId": "9ab196d8-7a2a-420f-d9f6-233d55befdfc"
      },
      "execution_count": 26,
      "outputs": [
        {
          "output_type": "stream",
          "name": "stdout",
          "text": [
            "         ||                   ||                   ||         \n",
            "         ||                   ||                   ||         \n",
            "         ==                   ||                   ||         \n",
            "        ====                  ||                   ||         \n",
            "       ======                 ||                   ||         \n",
            "      ========                ||                   ||         \n",
            "     ==========               ||                   ||         \n",
            "    ============              ||                   ||         \n",
            "-------------------- -------------------- --------------------\n",
            "      Tower #0             Tower #1             Tower #2      \n"
          ]
        }
      ]
    }
  ]
}